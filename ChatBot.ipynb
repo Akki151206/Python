{
 "cells": [
  {
   "cell_type": "code",
   "execution_count": 4,
   "metadata": {},
   "outputs": [
    {
     "name": "stdout",
     "output_type": "stream",
     "text": [
      "USER : Lull Akhilesh\n",
      "BOT :  I can hear you ! You said : Lull Akhilesh\n",
      "USER : k\n",
      "BOT :  I can hear you ! You said : k\n",
      "USER : \n",
      "BOT :  You didn't said anything ! Bye Bye\n"
     ]
    }
   ],
   "source": [
    "import time\n",
    "def respond(message):\n",
    "        if message:\n",
    "            bot_msg=\"I can hear you ! You said : \" + message\n",
    "        else:\n",
    "            bot_msg=\"You didn't said anything ! Bye Bye\"\n",
    "        return bot_msg\n",
    "while True:\n",
    "    user_input=input(\"USER : \")\n",
    "    if user_input:\n",
    "        time.sleep(1)\n",
    "        response = respond(user_input)\n",
    "        print (\"BOT : \",response)\n",
    "    else:\n",
    "        response = respond(user_input)\n",
    "        print (\"BOT : \",response)\n",
    "        break"
   ]
  }
 ],
 "metadata": {
  "anaconda-cloud": {},
  "kernelspec": {
   "display_name": "Python [default]",
   "language": "python",
   "name": "python3"
  },
  "language_info": {
   "codemirror_mode": {
    "name": "ipython",
    "version": 3
   },
   "file_extension": ".py",
   "mimetype": "text/x-python",
   "name": "python",
   "nbconvert_exporter": "python",
   "pygments_lexer": "ipython3",
   "version": "3.5.2"
  }
 },
 "nbformat": 4,
 "nbformat_minor": 1
}
